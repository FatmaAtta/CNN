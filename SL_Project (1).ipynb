{
  "cells": [
    {
      "cell_type": "code",
      "execution_count": 13,
      "metadata": {
        "colab": {
          "base_uri": "https://localhost:8080/"
        },
        "collapsed": true,
        "id": "GhdUH3RBqUs9",
        "outputId": "dddac505-3809-4ecf-9de7-238dfaed59f6"
      },
      "outputs": [
        {
          "output_type": "stream",
          "name": "stdout",
          "text": [
            "Requirement already satisfied: tensorflow in /usr/local/lib/python3.11/dist-packages (2.18.0)\n",
            "Requirement already satisfied: absl-py>=1.0.0 in /usr/local/lib/python3.11/dist-packages (from tensorflow) (1.4.0)\n",
            "Requirement already satisfied: astunparse>=1.6.0 in /usr/local/lib/python3.11/dist-packages (from tensorflow) (1.6.3)\n",
            "Requirement already satisfied: flatbuffers>=24.3.25 in /usr/local/lib/python3.11/dist-packages (from tensorflow) (25.2.10)\n",
            "Requirement already satisfied: gast!=0.5.0,!=0.5.1,!=0.5.2,>=0.2.1 in /usr/local/lib/python3.11/dist-packages (from tensorflow) (0.6.0)\n",
            "Requirement already satisfied: google-pasta>=0.1.1 in /usr/local/lib/python3.11/dist-packages (from tensorflow) (0.2.0)\n",
            "Requirement already satisfied: libclang>=13.0.0 in /usr/local/lib/python3.11/dist-packages (from tensorflow) (18.1.1)\n",
            "Requirement already satisfied: opt-einsum>=2.3.2 in /usr/local/lib/python3.11/dist-packages (from tensorflow) (3.4.0)\n",
            "Requirement already satisfied: packaging in /usr/local/lib/python3.11/dist-packages (from tensorflow) (24.2)\n",
            "Requirement already satisfied: protobuf!=4.21.0,!=4.21.1,!=4.21.2,!=4.21.3,!=4.21.4,!=4.21.5,<6.0.0dev,>=3.20.3 in /usr/local/lib/python3.11/dist-packages (from tensorflow) (5.29.4)\n",
            "Requirement already satisfied: requests<3,>=2.21.0 in /usr/local/lib/python3.11/dist-packages (from tensorflow) (2.32.3)\n",
            "Requirement already satisfied: setuptools in /usr/local/lib/python3.11/dist-packages (from tensorflow) (75.2.0)\n",
            "Requirement already satisfied: six>=1.12.0 in /usr/local/lib/python3.11/dist-packages (from tensorflow) (1.17.0)\n",
            "Requirement already satisfied: termcolor>=1.1.0 in /usr/local/lib/python3.11/dist-packages (from tensorflow) (3.1.0)\n",
            "Requirement already satisfied: typing-extensions>=3.6.6 in /usr/local/lib/python3.11/dist-packages (from tensorflow) (4.13.2)\n",
            "Requirement already satisfied: wrapt>=1.11.0 in /usr/local/lib/python3.11/dist-packages (from tensorflow) (1.17.2)\n",
            "Requirement already satisfied: grpcio<2.0,>=1.24.3 in /usr/local/lib/python3.11/dist-packages (from tensorflow) (1.71.0)\n",
            "Requirement already satisfied: tensorboard<2.19,>=2.18 in /usr/local/lib/python3.11/dist-packages (from tensorflow) (2.18.0)\n",
            "Requirement already satisfied: keras>=3.5.0 in /usr/local/lib/python3.11/dist-packages (from tensorflow) (3.8.0)\n",
            "Requirement already satisfied: numpy<2.1.0,>=1.26.0 in /usr/local/lib/python3.11/dist-packages (from tensorflow) (2.0.2)\n",
            "Requirement already satisfied: h5py>=3.11.0 in /usr/local/lib/python3.11/dist-packages (from tensorflow) (3.13.0)\n",
            "Requirement already satisfied: ml-dtypes<0.5.0,>=0.4.0 in /usr/local/lib/python3.11/dist-packages (from tensorflow) (0.4.1)\n",
            "Requirement already satisfied: tensorflow-io-gcs-filesystem>=0.23.1 in /usr/local/lib/python3.11/dist-packages (from tensorflow) (0.37.1)\n",
            "Requirement already satisfied: wheel<1.0,>=0.23.0 in /usr/local/lib/python3.11/dist-packages (from astunparse>=1.6.0->tensorflow) (0.45.1)\n",
            "Requirement already satisfied: rich in /usr/local/lib/python3.11/dist-packages (from keras>=3.5.0->tensorflow) (13.9.4)\n",
            "Requirement already satisfied: namex in /usr/local/lib/python3.11/dist-packages (from keras>=3.5.0->tensorflow) (0.0.9)\n",
            "Requirement already satisfied: optree in /usr/local/lib/python3.11/dist-packages (from keras>=3.5.0->tensorflow) (0.15.0)\n",
            "Requirement already satisfied: charset-normalizer<4,>=2 in /usr/local/lib/python3.11/dist-packages (from requests<3,>=2.21.0->tensorflow) (3.4.2)\n",
            "Requirement already satisfied: idna<4,>=2.5 in /usr/local/lib/python3.11/dist-packages (from requests<3,>=2.21.0->tensorflow) (3.10)\n",
            "Requirement already satisfied: urllib3<3,>=1.21.1 in /usr/local/lib/python3.11/dist-packages (from requests<3,>=2.21.0->tensorflow) (2.4.0)\n",
            "Requirement already satisfied: certifi>=2017.4.17 in /usr/local/lib/python3.11/dist-packages (from requests<3,>=2.21.0->tensorflow) (2025.4.26)\n",
            "Requirement already satisfied: markdown>=2.6.8 in /usr/local/lib/python3.11/dist-packages (from tensorboard<2.19,>=2.18->tensorflow) (3.8)\n",
            "Requirement already satisfied: tensorboard-data-server<0.8.0,>=0.7.0 in /usr/local/lib/python3.11/dist-packages (from tensorboard<2.19,>=2.18->tensorflow) (0.7.2)\n",
            "Requirement already satisfied: werkzeug>=1.0.1 in /usr/local/lib/python3.11/dist-packages (from tensorboard<2.19,>=2.18->tensorflow) (3.1.3)\n",
            "Requirement already satisfied: MarkupSafe>=2.1.1 in /usr/local/lib/python3.11/dist-packages (from werkzeug>=1.0.1->tensorboard<2.19,>=2.18->tensorflow) (3.0.2)\n",
            "Requirement already satisfied: markdown-it-py>=2.2.0 in /usr/local/lib/python3.11/dist-packages (from rich->keras>=3.5.0->tensorflow) (3.0.0)\n",
            "Requirement already satisfied: pygments<3.0.0,>=2.13.0 in /usr/local/lib/python3.11/dist-packages (from rich->keras>=3.5.0->tensorflow) (2.19.1)\n",
            "Requirement already satisfied: mdurl~=0.1 in /usr/local/lib/python3.11/dist-packages (from markdown-it-py>=2.2.0->rich->keras>=3.5.0->tensorflow) (0.1.2)\n"
          ]
        }
      ],
      "source": [
        "!pip install tensorflow"
      ]
    },
    {
      "cell_type": "markdown",
      "metadata": {
        "id": "XLUyHUpjQWeq"
      },
      "source": [
        "\n",
        "### Project Rules\n",
        "##### Each step, you test a specific parameter first then after finding the best value, use it in the next steps to find the best of the other parameters\n",
        "<small>\n",
        "  * Data must be shuffled first <br>\n",
        "  *   batch size > 30<br>\n",
        "  *   start with RelU<br>\n",
        "  * number of layers > 3<br>\n",
        "  * 2D max pooling layer - 2x2 stride - 2x2 kernel size<br>\n",
        "  * optimizer -> stochastic gradient descent with any initial learning rate<br>\n",
        "  * do not use more than 3 CNN layers in any model<br>\n",
        "  * do not use more than 4 FC (fully connected) layers<br>\n",
        "  * start with batch size = 32 or 64 (how many samples model looks at before updating weights)<br>\n",
        "  * number of epochs >= 10  and <=25 maybe (an epoch is one complete pass on the data)<br>\n",
        "  * test with double the batch size AND ( triple OR 4 times)<br>\n",
        "  * use atleast 3 other activation functions<br>\n",
        "  * with best settings reached -> try 2 more optimizers<br>\n",
        "  * put dropout layer anywhere and test 2 different places and different dropout rates<br>\n",
        "  * data input should be 28x28<br>\n",
        "  * output layer size = 10 (corresponding to the different classes)<br>\n",
        "  * mnist dataset<br>\n",
        "  * cross entropy loss\n",
        "</small>\n"
      ]
    },
    {
      "cell_type": "code",
      "execution_count": 29,
      "metadata": {
        "id": "UKUOBiISs_Ns",
        "colab": {
          "base_uri": "https://localhost:8080/"
        },
        "outputId": "dc2dba9e-05f8-4b3c-fc1b-6174844b899a"
      },
      "outputs": [
        {
          "output_type": "stream",
          "name": "stdout",
          "text": [
            "Train images shape:        (48000, 28, 28, 1)\n",
            "Train labels shape:        (48000,)\n",
            "Validation images shape:   (12000, 28, 28, 1)\n",
            "Validation labels shape:   (12000,)\n",
            "Test images shape:         (10000, 28, 28, 1)\n",
            "Test labels shape:         (10000,)\n",
            "Train CNN images shape:        (48000, 28, 28, 1)\n",
            "Train CNN labels shape:        (48000,)\n"
          ]
        }
      ],
      "source": [
        "from tensorflow.keras.datasets import mnist\n",
        "from sklearn.model_selection import train_test_split\n",
        "import matplotlib.pyplot as plt\n",
        "import numpy as np\n",
        "from tensorflow.keras.utils import to_categorical\n",
        "\n",
        "\n",
        "(X_train, y_train), (X_test, y_test) = mnist.load_data()\n",
        "X_train, X_valid, y_train, y_valid = train_test_split(X_train, y_train, test_size=0.2, random_state=42)\n",
        "\n",
        "X_train = X_train.reshape(X_train.shape[0], 28, 28, 1)\n",
        "X_valid = X_valid.reshape(X_valid.shape[0], 28, 28, 1)\n",
        "X_test = X_test.reshape(X_test.shape[0], 28, 28, 1)\n",
        "X_train_cnn = X_train.reshape(-1, 28, 28, 1).astype('float32')\n",
        "X_valid_cnn = X_valid.reshape(-1, 28, 28, 1).astype('float32')\n",
        "X_test_cnn = X_test.reshape(-1, 28, 28, 1).astype('float32')\n",
        "\n",
        "y_train_cnn = y_train\n",
        "y_valid_cnn = y_valid\n",
        "y_test_cnn = y_test\n",
        "\n",
        "print(\"Train images shape:       \",X_train.shape)\n",
        "print(\"Train labels shape:       \",y_train.shape)\n",
        "print(\"Validation images shape:  \",X_valid.shape)\n",
        "print(\"Validation labels shape:  \",y_valid.shape)\n",
        "print(\"Test images shape:        \",X_test.shape)\n",
        "print(\"Test labels shape:        \",y_test.shape)\n",
        "print(\"Train CNN images shape:       \",X_train_cnn.shape)\n",
        "print(\"Train CNN labels shape:       \",y_train_cnn.shape)"
      ]
    },
    {
      "cell_type": "markdown",
      "metadata": {
        "id": "sjifH1AU2RKg"
      },
      "source": [
        "### Visualizing the Data"
      ]
    },
    {
      "cell_type": "code",
      "execution_count": 15,
      "metadata": {
        "collapsed": true,
        "id": "mqyv5OT6u3Sn",
        "colab": {
          "base_uri": "https://localhost:8080/",
          "height": 826
        },
        "outputId": "d5fcb8d2-2e58-43a3-dbf2-6a9adadb42eb"
      },
      "outputs": [
        {
          "output_type": "display_data",
          "data": {
            "text/plain": [
              "<Figure size 1000x1000 with 25 Axes>"
            ],
            "image/png": "[encoded data removed]"
          },
          "metadata": {}
        }
      ],
      "source": [
        "class_names = ['0', '1', '2', '3', '4', '5', '6', '7', '8', '9']\n",
        "plt.figure(figsize=(10,10))\n",
        "\n",
        "for i in range(25):\n",
        "    plt.subplot(5,5,i+1)\n",
        "    plt.xticks([])\n",
        "    plt.yticks([])\n",
        "    plt.grid(False)\n",
        "    plt.imshow(X_train[i], cmap=plt.cm.binary)\n",
        "    plt.xlabel(class_names[y_train[i]])\n",
        "plt.show()"
      ]
    },
    {
      "cell_type": "code",
      "execution_count": 30,
      "metadata": {
        "id": "4-pHounPu85R",
        "colab": {
          "base_uri": "https://localhost:8080/"
        },
        "outputId": "25f41923-539e-461f-dbac-47d8d0d7c867"
      },
      "outputs": [
        {
          "output_type": "stream",
          "name": "stdout",
          "text": [
            "Train images shape:        (48000, 28, 28, 1)\n",
            "Train images shape:        (48000, 28, 28, 1)\n",
            "Train labels shape:        (48000, 10)\n",
            "Validation labels shape:   (12000, 10)\n",
            "Test labels shape:         (10000, 10)\n"
          ]
        }
      ],
      "source": [
        "#convert from int to float to prepare for normalization\n",
        "X_train = X_train.astype('float32')\n",
        "X_valid = X_valid.astype('float32')\n",
        "X_test = X_test.astype('float32')\n",
        "\n",
        "#normalizes data to have mean = 0 and std = 1\n",
        "\n",
        "mean = np.mean(X_train)\n",
        "std = np.std(X_train)\n",
        "\n",
        "X_train = (X_train-mean)/(std + 1e-7)\n",
        "X_valid = (X_valid-mean)/(std + 1e-7)\n",
        "X_test = (X_test-mean)/(std + 1e-7)\n",
        "print(\"Train images shape:       \",X_train.shape)\n",
        "# print(\"Train labels shape:       \",y_train.shape)\n",
        "#converts digit labels into vector\n",
        "#needed for softmax and categorical crossentropy\n",
        "\n",
        "mean = np.mean(X_train_cnn)\n",
        "std = np.std(X_train_cnn)\n",
        "X_train_cnn = (X_train_cnn - mean) / (std + 1e-7)\n",
        "X_valid_cnn = (X_valid_cnn - mean) / (std + 1e-7)\n",
        "X_test_cnn = (X_test_cnn - mean) / (std + 1e-7)\n",
        "print(\"Train images shape:       \",X_train_cnn.shape)\n",
        "\n",
        "y_train_cnn = to_categorical(y_train_cnn, 10)\n",
        "y_valid_cnn = to_categorical(y_valid_cnn, 10)\n",
        "y_test_cnn = to_categorical(y_test_cnn, 10)\n",
        "print(\"Train labels shape:       \",y_train_cnn.shape)\n",
        "print(\"Validation labels shape:  \",y_valid_cnn.shape)\n",
        "print(\"Test labels shape:        \",y_test_cnn.shape)\n",
        "\n",
        "y_train = to_categorical(y_train,10)\n",
        "y_valid = to_categorical(y_valid, 10)\n",
        "y_test = to_categorical(y_test, 10)"
      ]
    },
    {
      "cell_type": "markdown",
      "metadata": {
        "id": "v67kS9bqRJKK"
      },
      "source": [
        "# ANN Model"
      ]
    },
    {
      "cell_type": "code",
      "execution_count": 17,
      "metadata": {
        "colab": {
          "base_uri": "https://localhost:8080/",
          "height": 1000
        },
        "collapsed": true,
        "id": "QDZXbm4BP_fy",
        "outputId": "205fbe54-97d4-4c93-c3f9-88ea0e272f61"
      },
      "outputs": [
        {
          "output_type": "stream",
          "name": "stderr",
          "text": [
            "/usr/local/lib/python3.11/dist-packages/keras/src/layers/core/dense.py:87: UserWarning: Do not pass an `input_shape`/`input_dim` argument to a layer. When using Sequential models, prefer using an `Input(shape)` object as the first layer in the model instead.\n",
            "  super().__init__(activity_regularizer=activity_regularizer, **kwargs)\n"
          ]
        },
        {
          "output_type": "stream",
          "name": "stdout",
          "text": [
            "\n",
            "Epoch 1/12\n",
            "750/750 - 20s - 27ms/step - accuracy: 0.9279 - loss: 0.2373 - val_accuracy: 0.9630 - val_loss: 0.1195\n",
            "\n",
            "Epoch 2/12\n",
            "750/750 - 10s - 13ms/step - accuracy: 0.9636 - loss: 0.1156 - val_accuracy: 0.9718 - val_loss: 0.0967\n",
            "\n",
            "Epoch 3/12\n",
            "750/750 - 8s - 11ms/step - accuracy: 0.9730 - loss: 0.0856 - val_accuracy: 0.9712 - val_loss: 0.1048\n",
            "\n",
            "Epoch 4/12\n",
            "750/750 - 8s - 11ms/step - accuracy: 0.9779 - loss: 0.0709 - val_accuracy: 0.9771 - val_loss: 0.0838\n",
            "\n",
            "Epoch 5/12\n",
            "750/750 - 9s - 12ms/step - accuracy: 0.9808 - loss: 0.0582 - val_accuracy: 0.9759 - val_loss: 0.0884\n",
            "\n",
            "Epoch 6/12\n",
            "750/750 - 8s - 11ms/step - accuracy: 0.9829 - loss: 0.0539 - val_accuracy: 0.9769 - val_loss: 0.0893\n",
            "\n",
            "Epoch 7/12\n",
            "750/750 - 12s - 16ms/step - accuracy: 0.9841 - loss: 0.0495 - val_accuracy: 0.9780 - val_loss: 0.0884\n",
            "\n",
            "Epoch 8/12\n",
            "750/750 - 9s - 11ms/step - accuracy: 0.9850 - loss: 0.0467 - val_accuracy: 0.9753 - val_loss: 0.0916\n",
            "\n",
            "Epoch 9/12\n",
            "750/750 - 9s - 12ms/step - accuracy: 0.9874 - loss: 0.0398 - val_accuracy: 0.9799 - val_loss: 0.0839\n",
            "\n",
            "Epoch 10/12\n",
            "750/750 - 8s - 11ms/step - accuracy: 0.9875 - loss: 0.0380 - val_accuracy: 0.9778 - val_loss: 0.0901\n",
            "\n",
            "Epoch 11/12\n",
            "750/750 - 8s - 11ms/step - accuracy: 0.9890 - loss: 0.0346 - val_accuracy: 0.9801 - val_loss: 0.0845\n",
            "\n",
            "Epoch 12/12\n",
            "750/750 - 8s - 11ms/step - accuracy: 0.9894 - loss: 0.0326 - val_accuracy: 0.9815 - val_loss: 0.0904\n"
          ]
        },
        {
          "output_type": "display_data",
          "data": {
            "text/plain": [
              "\u001b[1mModel: \"sequential_3\"\u001b[0m\n"
            ],
            "text/html": [
              "<pre style=\"white-space:pre;overflow-x:auto;line-height:normal;font-family:Menlo,'DejaVu Sans Mono',consolas,'Courier New',monospace\"><span style=\"font-weight: bold\">Model: \"sequential_3\"</span>\n",
              "</pre>\n"
            ]
          },
          "metadata": {}
        },
        {
          "output_type": "display_data",
          "data": {
            "text/plain": [
              "┏━━━━━━━━━━━━━━━━━━━━━━━━━━━━━━━━━┳━━━━━━━━━━━━━━━━━━━━━━━━┳━━━━━━━━━━━━━━━┓\n",
              "┃\u001b[1m \u001b[0m\u001b[1mLayer (type)                   \u001b[0m\u001b[1m \u001b[0m┃\u001b[1m \u001b[0m\u001b[1mOutput Shape          \u001b[0m\u001b[1m \u001b[0m┃\u001b[1m \u001b[0m\u001b[1m      Param #\u001b[0m\u001b[1m \u001b[0m┃\n",
              "┡━━━━━━━━━━━━━━━━━━━━━━━━━━━━━━━━━╇━━━━━━━━━━━━━━━━━━━━━━━━╇━━━━━━━━━━━━━━━┩\n",
              "│ dense_9 (\u001b[38;5;33mDense\u001b[0m)                 │ (\u001b[38;5;45mNone\u001b[0m, \u001b[38;5;34m512\u001b[0m)            │       \u001b[38;5;34m401,920\u001b[0m │\n",
              "├─────────────────────────────────┼────────────────────────┼───────────────┤\n",
              "│ dropout_1 (\u001b[38;5;33mDropout\u001b[0m)             │ (\u001b[38;5;45mNone\u001b[0m, \u001b[38;5;34m512\u001b[0m)            │             \u001b[38;5;34m0\u001b[0m │\n",
              "├─────────────────────────────────┼────────────────────────┼───────────────┤\n",
              "│ dense_10 (\u001b[38;5;33mDense\u001b[0m)                │ (\u001b[38;5;45mNone\u001b[0m, \u001b[38;5;34m256\u001b[0m)            │       \u001b[38;5;34m131,328\u001b[0m │\n",
              "├─────────────────────────────────┼────────────────────────┼───────────────┤\n",
              "│ dense_11 (\u001b[38;5;33mDense\u001b[0m)                │ (\u001b[38;5;45mNone\u001b[0m, \u001b[38;5;34m10\u001b[0m)             │         \u001b[38;5;34m2,570\u001b[0m │\n",
              "└─────────────────────────────────┴────────────────────────┴───────────────┘\n"
            ],
            "text/html": [
              "<pre style=\"white-space:pre;overflow-x:auto;line-height:normal;font-family:Menlo,'DejaVu Sans Mono',consolas,'Courier New',monospace\">┏━━━━━━━━━━━━━━━━━━━━━━━━━━━━━━━━━┳━━━━━━━━━━━━━━━━━━━━━━━━┳━━━━━━━━━━━━━━━┓\n",
              "┃<span style=\"font-weight: bold\"> Layer (type)                    </span>┃<span style=\"font-weight: bold\"> Output Shape           </span>┃<span style=\"font-weight: bold\">       Param # </span>┃\n",
              "┡━━━━━━━━━━━━━━━━━━━━━━━━━━━━━━━━━╇━━━━━━━━━━━━━━━━━━━━━━━━╇━━━━━━━━━━━━━━━┩\n",
              "│ dense_9 (<span style=\"color: #0087ff; text-decoration-color: #0087ff\">Dense</span>)                 │ (<span style=\"color: #00d7ff; text-decoration-color: #00d7ff\">None</span>, <span style=\"color: #00af00; text-decoration-color: #00af00\">512</span>)            │       <span style=\"color: #00af00; text-decoration-color: #00af00\">401,920</span> │\n",
              "├─────────────────────────────────┼────────────────────────┼───────────────┤\n",
              "│ dropout_1 (<span style=\"color: #0087ff; text-decoration-color: #0087ff\">Dropout</span>)             │ (<span style=\"color: #00d7ff; text-decoration-color: #00d7ff\">None</span>, <span style=\"color: #00af00; text-decoration-color: #00af00\">512</span>)            │             <span style=\"color: #00af00; text-decoration-color: #00af00\">0</span> │\n",
              "├─────────────────────────────────┼────────────────────────┼───────────────┤\n",
              "│ dense_10 (<span style=\"color: #0087ff; text-decoration-color: #0087ff\">Dense</span>)                │ (<span style=\"color: #00d7ff; text-decoration-color: #00d7ff\">None</span>, <span style=\"color: #00af00; text-decoration-color: #00af00\">256</span>)            │       <span style=\"color: #00af00; text-decoration-color: #00af00\">131,328</span> │\n",
              "├─────────────────────────────────┼────────────────────────┼───────────────┤\n",
              "│ dense_11 (<span style=\"color: #0087ff; text-decoration-color: #0087ff\">Dense</span>)                │ (<span style=\"color: #00d7ff; text-decoration-color: #00d7ff\">None</span>, <span style=\"color: #00af00; text-decoration-color: #00af00\">10</span>)             │         <span style=\"color: #00af00; text-decoration-color: #00af00\">2,570</span> │\n",
              "└─────────────────────────────────┴────────────────────────┴───────────────┘\n",
              "</pre>\n"
            ]
          },
          "metadata": {}
        },
        {
          "output_type": "display_data",
          "data": {
            "text/plain": [
              "\u001b[1m Total params: \u001b[0m\u001b[38;5;34m1,607,456\u001b[0m (6.13 MB)\n"
            ],
            "text/html": [
              "<pre style=\"white-space:pre;overflow-x:auto;line-height:normal;font-family:Menlo,'DejaVu Sans Mono',consolas,'Courier New',monospace\"><span style=\"font-weight: bold\"> Total params: </span><span style=\"color: #00af00; text-decoration-color: #00af00\">1,607,456</span> (6.13 MB)\n",
              "</pre>\n"
            ]
          },
          "metadata": {}
        },
        {
          "output_type": "display_data",
          "data": {
            "text/plain": [
              "\u001b[1m Trainable params: \u001b[0m\u001b[38;5;34m535,818\u001b[0m (2.04 MB)\n"
            ],
            "text/html": [
              "<pre style=\"white-space:pre;overflow-x:auto;line-height:normal;font-family:Menlo,'DejaVu Sans Mono',consolas,'Courier New',monospace\"><span style=\"font-weight: bold\"> Trainable params: </span><span style=\"color: #00af00; text-decoration-color: #00af00\">535,818</span> (2.04 MB)\n",
              "</pre>\n"
            ]
          },
          "metadata": {}
        },
        {
          "output_type": "display_data",
          "data": {
            "text/plain": [
              "\u001b[1m Non-trainable params: \u001b[0m\u001b[38;5;34m0\u001b[0m (0.00 B)\n"
            ],
            "text/html": [
              "<pre style=\"white-space:pre;overflow-x:auto;line-height:normal;font-family:Menlo,'DejaVu Sans Mono',consolas,'Courier New',monospace\"><span style=\"font-weight: bold\"> Non-trainable params: </span><span style=\"color: #00af00; text-decoration-color: #00af00\">0</span> (0.00 B)\n",
              "</pre>\n"
            ]
          },
          "metadata": {}
        },
        {
          "output_type": "display_data",
          "data": {
            "text/plain": [
              "\u001b[1m Optimizer params: \u001b[0m\u001b[38;5;34m1,071,638\u001b[0m (4.09 MB)\n"
            ],
            "text/html": [
              "<pre style=\"white-space:pre;overflow-x:auto;line-height:normal;font-family:Menlo,'DejaVu Sans Mono',consolas,'Courier New',monospace\"><span style=\"font-weight: bold\"> Optimizer params: </span><span style=\"color: #00af00; text-decoration-color: #00af00\">1,071,638</span> (4.09 MB)\n",
              "</pre>\n"
            ]
          },
          "metadata": {}
        },
        {
          "output_type": "stream",
          "name": "stdout",
          "text": [
            "\n",
            "--- ANN Results ---\n",
            "Final Test Accuracy: 0.9809\n",
            "Validation Accuracy per Epoch (first 5): ['0.9630', '0.9718', '0.9712', '0.9771', '0.9759']\n",
            "Total Parameters: 535818\n",
            "Average Training Time per Epoch: 11.7459 seconds\n",
            "Average Testing Time per Epoch: 1.7523 seconds\n",
            "Layers: Input(784) -> Dense(512, relu) -> Dropout(0.2) -> Dense(256, relu) -> Dense(10, softmax)\n",
            "Learning Rate Used: 0.001\n"
          ]
        }
      ],
      "source": [
        "from keras.models import Sequential\n",
        "from keras.layers import Dense, Dropout, Flatten, Conv2D, MaxPooling2D\n",
        "import tensorflow as tf\n",
        "import time\n",
        "\n",
        "X_train = X_train.reshape(X_train.shape[0], -1)\n",
        "X_valid = X_valid.reshape(X_valid.shape[0], -1)\n",
        "X_test = X_test.reshape(X_test.shape[0], -1)\n",
        "\n",
        "model = Sequential([\n",
        "    Dense(512, activation='relu', input_shape=X_train.shape[1:]),\n",
        "    Dropout(0.2),\n",
        "    Dense(256, activation='relu'),\n",
        "    Dense(10, activation='softmax')\n",
        "])\n",
        "\n",
        "batch_size = 64\n",
        "epochs = 12\n",
        "learning_rate = 0.001\n",
        "optimizer = tf.keras.optimizers.Adam(learning_rate=learning_rate,beta_1= 0.9 ,beta_2= 0.999, epsilon=1e-07)\n",
        "\n",
        "model.compile(optimizer=optimizer,\n",
        "              loss='categorical_crossentropy',\n",
        "              metrics=['accuracy'])\n",
        "# reduce_lr = tf.keras.callbacks.ReduceLROnPlateau(monitor='val_loss', factor=0.2, patience=5, min_lr=0.00001)\n",
        "# early_stopping = tf.keras.callbacks.EarlyStopping(monitor='val_loss', patience=10, restore_best_weights=True)\n",
        "\n",
        "\n",
        "# Test and measure time\n",
        "test_times = []\n",
        "train_times = []\n",
        "val_accuracies = []\n",
        "for e in range(epochs):\n",
        "      print(f\"\\nEpoch {e+1}/{epochs}\")\n",
        "\n",
        "      train_start = time.time()\n",
        "      history = model.fit(\n",
        "             X_train, y_train,\n",
        "             validation_data=(X_valid, y_valid),\n",
        "             epochs=1,\n",
        "             batch_size=batch_size,\n",
        "            #  callbacks=[reduce_lr, early_stopping],\n",
        "             verbose=2\n",
        "       )\n",
        "      train_end = time.time()\n",
        "      train_duration = train_end - train_start\n",
        "      train_times.append(train_duration)\n",
        "      val_accuracies.append(history.history['val_accuracy'][0])\n",
        "\n",
        "      start = time.time()\n",
        "      model.evaluate(X_test, y_test, verbose=0)\n",
        "      end = time.time()\n",
        "      test_duration = end - start\n",
        "      test_times.append(end - start)\n",
        "\n",
        "\n",
        "\n",
        "avg_train_time = np.mean(train_times)\n",
        "avg_test_time = np.mean(test_times)\n",
        "\n",
        "\n",
        "\n",
        "final_test_loss, final_test_acc = model.evaluate(X_test, y_test, verbose=0)\n",
        "\n",
        "model.summary()\n",
        "\n",
        "print(\"\\n--- ANN Results ---\")\n",
        "print(f\"Final Test Accuracy: {final_test_acc:.4f}\")\n",
        "print(\"Validation Accuracy per Epoch (first 5):\",\n",
        "      [f\"{acc:.4f}\" for acc in val_accuracies[:5]])\n",
        "print(f\"Total Parameters: {model.count_params()}\")\n",
        "print(f\"Average Training Time per Epoch: {avg_train_time:.4f} seconds\")\n",
        "print(f\"Average Testing Time per Epoch: {avg_test_time:.4f} seconds\")\n",
        "print(f\"Layers: Input(784) -> Dense(512, relu) -> Dropout(0.2) -> Dense(256, relu) -> Dense(10, softmax)\")\n",
        "print(\"Learning Rate Used:\", learning_rate)"
      ]
    },
    {
      "cell_type": "markdown",
      "metadata": {
        "id": "wmq71p8TROB5"
      },
      "source": [
        "# SVM Model"
      ]
    },
    {
      "cell_type": "code",
      "execution_count": 18,
      "metadata": {
        "id": "mXgCBP3AwG-A"
      },
      "outputs": [],
      "source": [
        "import numpy as np\n",
        "import time\n",
        "from sklearn import svm\n",
        "from sklearn.metrics import accuracy_score\n",
        "from sklearn.preprocessing import StandardScaler\n",
        "from sklearn.pipeline import make_pipeline\n",
        "from sklearn.datasets import fetch_openml\n",
        "from sklearn.model_selection import train_test_split\n",
        "\n",
        "(X_train, y_train), (X_test, y_test) = mnist.load_data()\n",
        "X_train = X_train.reshape(-1, 28 * 28).astype(\"float32\") / 255.0\n",
        "X_test = X_test.reshape(-1, 28 * 28).astype(\"float32\") / 255.0\n",
        "\n",
        "X_train_svm, _, y_train_svm, _ = train_test_split(X_train, y_train, train_size=8000, stratify=y_train, random_state=42)\n",
        "X_test_svm, _, y_test_svm, _ = train_test_split(X_test, y_test, train_size=2000, stratify=y_test, random_state=42)\n"
      ]
    },
    {
      "cell_type": "code",
      "execution_count": 19,
      "metadata": {
        "colab": {
          "base_uri": "https://localhost:8080/"
        },
        "id": "sfqtnqBoRR4y",
        "outputId": "1eab22ec-cc44-4368-f5d2-4cc4e1f6b2fc"
      },
      "outputs": [
        {
          "output_type": "stream",
          "name": "stdout",
          "text": [
            "\n",
            "--- SVM Results ---\n",
            "Test Accuracy: 0.9475\n",
            "Training Time: 9.99 seconds\n",
            "Testing Time: 5.9633 seconds\n"
          ]
        }
      ],
      "source": [
        "clf = make_pipeline(StandardScaler(), svm.SVC(kernel='rbf', gamma='scale', C=5))\n",
        "start_train = time.time()\n",
        "clf.fit(X_train_svm, y_train_svm)\n",
        "end_train = time.time()\n",
        "train_time = end_train - start_train\n",
        "\n",
        "start_test = time.time()\n",
        "y_pred = clf.predict(X_test_svm)\n",
        "end_test = time.time()\n",
        "test_time = end_test - start_test\n",
        "\n",
        "acc = accuracy_score(y_test_svm, y_pred)\n",
        "\n",
        "print(\"\\n--- SVM Results ---\")\n",
        "print(f\"Test Accuracy: {acc:.4f}\")\n",
        "print(f\"Training Time: {train_time:.2f} seconds\")\n",
        "print(f\"Testing Time: {test_time:.4f} seconds\")"
      ]
    },
    {
      "cell_type": "markdown",
      "metadata": {
        "id": "BinHAafhRSHi"
      },
      "source": [
        "# CNN\n",
        "* use RelU for now\n",
        "* 3 layers minimum\n",
        "* 2D MAX pooling after at least one layer, 2x2 stride, 2x2 kernel\n",
        "* choose good starting epoch\n",
        "* optimizer -> SGD\n",
        "* start with any learning rate\n",
        "* test different learning rates\n",
        "* start with batch size = 32, 64"
      ]
    },
    {
      "cell_type": "code",
      "execution_count": 20,
      "metadata": {
        "id": "-I8I91blQRhW"
      },
      "outputs": [],
      "source": [
        "from enum import Enum\n",
        "\n",
        "class Optimizer(Enum):\n",
        "    SGD = 'sgd'\n",
        "    Adam = 'adam'\n",
        "    RMSprop = 'rmsprop'\n",
        "\n",
        "class ActivationFunction(Enum):\n",
        "    ReLU = 'relu'\n",
        "    Sigmoid = 'sigmoid'\n",
        "    Tanh = 'tanh'\n",
        "    Softmax = 'softmax'\n",
        "\n",
        "#to use -> Optimizer.sgd\n"
      ]
    },
    {
      "cell_type": "code",
      "execution_count": null,
      "metadata": {
        "colab": {
          "base_uri": "https://localhost:8080/",
          "height": 643
        },
        "id": "Qxuq7t03TxST",
        "outputId": "8823d820-88e0-4690-e2cd-db8686114733"
      },
      "outputs": [
        {
          "output_type": "stream",
          "name": "stderr",
          "text": [
            "/usr/local/lib/python3.11/dist-packages/keras/src/layers/convolutional/base_conv.py:107: UserWarning: Do not pass an `input_shape`/`input_dim` argument to a layer. When using Sequential models, prefer using an `Input(shape)` object as the first layer in the model instead.\n",
            "  super().__init__(activity_regularizer=activity_regularizer, **kwargs)\n"
          ]
        },
        {
          "output_type": "display_data",
          "data": {
            "text/plain": [
              "\u001b[1mModel: \"sequential_10\"\u001b[0m\n"
            ],
            "text/html": [
              "<pre style=\"white-space:pre;overflow-x:auto;line-height:normal;font-family:Menlo,'DejaVu Sans Mono',consolas,'Courier New',monospace\"><span style=\"font-weight: bold\">Model: \"sequential_10\"</span>\n",
              "</pre>\n"
            ]
          },
          "metadata": {}
        },
        {
          "output_type": "display_data",
          "data": {
            "text/plain": [
              "┏━━━━━━━━━━━━━━━━━━━━━━━━━━━━━━━━━┳━━━━━━━━━━━━━━━━━━━━━━━━┳━━━━━━━━━━━━━━━┓\n",
              "┃\u001b[1m \u001b[0m\u001b[1mLayer (type)                   \u001b[0m\u001b[1m \u001b[0m┃\u001b[1m \u001b[0m\u001b[1mOutput Shape          \u001b[0m\u001b[1m \u001b[0m┃\u001b[1m \u001b[0m\u001b[1m      Param #\u001b[0m\u001b[1m \u001b[0m┃\n",
              "┡━━━━━━━━━━━━━━━━━━━━━━━━━━━━━━━━━╇━━━━━━━━━━━━━━━━━━━━━━━━╇━━━━━━━━━━━━━━━┩\n",
              "│ conv2d_24 (\u001b[38;5;33mConv2D\u001b[0m)              │ (\u001b[38;5;45mNone\u001b[0m, \u001b[38;5;34m28\u001b[0m, \u001b[38;5;34m28\u001b[0m, \u001b[38;5;34m32\u001b[0m)     │           \u001b[38;5;34m320\u001b[0m │\n",
              "├─────────────────────────────────┼────────────────────────┼───────────────┤\n",
              "│ max_pooling2d_24 (\u001b[38;5;33mMaxPooling2D\u001b[0m) │ (\u001b[38;5;45mNone\u001b[0m, \u001b[38;5;34m14\u001b[0m, \u001b[38;5;34m14\u001b[0m, \u001b[38;5;34m32\u001b[0m)     │             \u001b[38;5;34m0\u001b[0m │\n",
              "├─────────────────────────────────┼────────────────────────┼───────────────┤\n",
              "│ conv2d_25 (\u001b[38;5;33mConv2D\u001b[0m)              │ (\u001b[38;5;45mNone\u001b[0m, \u001b[38;5;34m14\u001b[0m, \u001b[38;5;34m14\u001b[0m, \u001b[38;5;34m32\u001b[0m)     │         \u001b[38;5;34m9,248\u001b[0m │\n",
              "├─────────────────────────────────┼────────────────────────┼───────────────┤\n",
              "│ max_pooling2d_25 (\u001b[38;5;33mMaxPooling2D\u001b[0m) │ (\u001b[38;5;45mNone\u001b[0m, \u001b[38;5;34m7\u001b[0m, \u001b[38;5;34m7\u001b[0m, \u001b[38;5;34m32\u001b[0m)       │             \u001b[38;5;34m0\u001b[0m │\n",
              "├─────────────────────────────────┼────────────────────────┼───────────────┤\n",
              "│ conv2d_26 (\u001b[38;5;33mConv2D\u001b[0m)              │ (\u001b[38;5;45mNone\u001b[0m, \u001b[38;5;34m7\u001b[0m, \u001b[38;5;34m7\u001b[0m, \u001b[38;5;34m32\u001b[0m)       │         \u001b[38;5;34m9,248\u001b[0m │\n",
              "├─────────────────────────────────┼────────────────────────┼───────────────┤\n",
              "│ max_pooling2d_26 (\u001b[38;5;33mMaxPooling2D\u001b[0m) │ (\u001b[38;5;45mNone\u001b[0m, \u001b[38;5;34m4\u001b[0m, \u001b[38;5;34m4\u001b[0m, \u001b[38;5;34m32\u001b[0m)       │             \u001b[38;5;34m0\u001b[0m │\n",
              "├─────────────────────────────────┼────────────────────────┼───────────────┤\n",
              "│ flatten_8 (\u001b[38;5;33mFlatten\u001b[0m)             │ (\u001b[38;5;45mNone\u001b[0m, \u001b[38;5;34m512\u001b[0m)            │             \u001b[38;5;34m0\u001b[0m │\n",
              "├─────────────────────────────────┼────────────────────────┼───────────────┤\n",
              "│ dense_30 (\u001b[38;5;33mDense\u001b[0m)                │ (\u001b[38;5;45mNone\u001b[0m, \u001b[38;5;34m128\u001b[0m)            │        \u001b[38;5;34m65,664\u001b[0m │\n",
              "├─────────────────────────────────┼────────────────────────┼───────────────┤\n",
              "│ dense_31 (\u001b[38;5;33mDense\u001b[0m)                │ (\u001b[38;5;45mNone\u001b[0m, \u001b[38;5;34m128\u001b[0m)            │        \u001b[38;5;34m16,512\u001b[0m │\n",
              "├─────────────────────────────────┼────────────────────────┼───────────────┤\n",
              "│ dense_32 (\u001b[38;5;33mDense\u001b[0m)                │ (\u001b[38;5;45mNone\u001b[0m, \u001b[38;5;34m10\u001b[0m)             │         \u001b[38;5;34m1,290\u001b[0m │\n",
              "└─────────────────────────────────┴────────────────────────┴───────────────┘\n"
            ],
            "text/html": [
              "<pre style=\"white-space:pre;overflow-x:auto;line-height:normal;font-family:Menlo,'DejaVu Sans Mono',consolas,'Courier New',monospace\">┏━━━━━━━━━━━━━━━━━━━━━━━━━━━━━━━━━┳━━━━━━━━━━━━━━━━━━━━━━━━┳━━━━━━━━━━━━━━━┓\n",
              "┃<span style=\"font-weight: bold\"> Layer (type)                    </span>┃<span style=\"font-weight: bold\"> Output Shape           </span>┃<span style=\"font-weight: bold\">       Param # </span>┃\n",
              "┡━━━━━━━━━━━━━━━━━━━━━━━━━━━━━━━━━╇━━━━━━━━━━━━━━━━━━━━━━━━╇━━━━━━━━━━━━━━━┩\n",
              "│ conv2d_24 (<span style=\"color: #0087ff; text-decoration-color: #0087ff\">Conv2D</span>)              │ (<span style=\"color: #00d7ff; text-decoration-color: #00d7ff\">None</span>, <span style=\"color: #00af00; text-decoration-color: #00af00\">28</span>, <span style=\"color: #00af00; text-decoration-color: #00af00\">28</span>, <span style=\"color: #00af00; text-decoration-color: #00af00\">32</span>)     │           <span style=\"color: #00af00; text-decoration-color: #00af00\">320</span> │\n",
              "├─────────────────────────────────┼────────────────────────┼───────────────┤\n",
              "│ max_pooling2d_24 (<span style=\"color: #0087ff; text-decoration-color: #0087ff\">MaxPooling2D</span>) │ (<span style=\"color: #00d7ff; text-decoration-color: #00d7ff\">None</span>, <span style=\"color: #00af00; text-decoration-color: #00af00\">14</span>, <span style=\"color: #00af00; text-decoration-color: #00af00\">14</span>, <span style=\"color: #00af00; text-decoration-color: #00af00\">32</span>)     │             <span style=\"color: #00af00; text-decoration-color: #00af00\">0</span> │\n",
              "├─────────────────────────────────┼────────────────────────┼───────────────┤\n",
              "│ conv2d_25 (<span style=\"color: #0087ff; text-decoration-color: #0087ff\">Conv2D</span>)              │ (<span style=\"color: #00d7ff; text-decoration-color: #00d7ff\">None</span>, <span style=\"color: #00af00; text-decoration-color: #00af00\">14</span>, <span style=\"color: #00af00; text-decoration-color: #00af00\">14</span>, <span style=\"color: #00af00; text-decoration-color: #00af00\">32</span>)     │         <span style=\"color: #00af00; text-decoration-color: #00af00\">9,248</span> │\n",
              "├─────────────────────────────────┼────────────────────────┼───────────────┤\n",
              "│ max_pooling2d_25 (<span style=\"color: #0087ff; text-decoration-color: #0087ff\">MaxPooling2D</span>) │ (<span style=\"color: #00d7ff; text-decoration-color: #00d7ff\">None</span>, <span style=\"color: #00af00; text-decoration-color: #00af00\">7</span>, <span style=\"color: #00af00; text-decoration-color: #00af00\">7</span>, <span style=\"color: #00af00; text-decoration-color: #00af00\">32</span>)       │             <span style=\"color: #00af00; text-decoration-color: #00af00\">0</span> │\n",
              "├─────────────────────────────────┼────────────────────────┼───────────────┤\n",
              "│ conv2d_26 (<span style=\"color: #0087ff; text-decoration-color: #0087ff\">Conv2D</span>)              │ (<span style=\"color: #00d7ff; text-decoration-color: #00d7ff\">None</span>, <span style=\"color: #00af00; text-decoration-color: #00af00\">7</span>, <span style=\"color: #00af00; text-decoration-color: #00af00\">7</span>, <span style=\"color: #00af00; text-decoration-color: #00af00\">32</span>)       │         <span style=\"color: #00af00; text-decoration-color: #00af00\">9,248</span> │\n",
              "├─────────────────────────────────┼────────────────────────┼───────────────┤\n",
              "│ max_pooling2d_26 (<span style=\"color: #0087ff; text-decoration-color: #0087ff\">MaxPooling2D</span>) │ (<span style=\"color: #00d7ff; text-decoration-color: #00d7ff\">None</span>, <span style=\"color: #00af00; text-decoration-color: #00af00\">4</span>, <span style=\"color: #00af00; text-decoration-color: #00af00\">4</span>, <span style=\"color: #00af00; text-decoration-color: #00af00\">32</span>)       │             <span style=\"color: #00af00; text-decoration-color: #00af00\">0</span> │\n",
              "├─────────────────────────────────┼────────────────────────┼───────────────┤\n",
              "│ flatten_8 (<span style=\"color: #0087ff; text-decoration-color: #0087ff\">Flatten</span>)             │ (<span style=\"color: #00d7ff; text-decoration-color: #00d7ff\">None</span>, <span style=\"color: #00af00; text-decoration-color: #00af00\">512</span>)            │             <span style=\"color: #00af00; text-decoration-color: #00af00\">0</span> │\n",
              "├─────────────────────────────────┼────────────────────────┼───────────────┤\n",
              "│ dense_30 (<span style=\"color: #0087ff; text-decoration-color: #0087ff\">Dense</span>)                │ (<span style=\"color: #00d7ff; text-decoration-color: #00d7ff\">None</span>, <span style=\"color: #00af00; text-decoration-color: #00af00\">128</span>)            │        <span style=\"color: #00af00; text-decoration-color: #00af00\">65,664</span> │\n",
              "├─────────────────────────────────┼────────────────────────┼───────────────┤\n",
              "│ dense_31 (<span style=\"color: #0087ff; text-decoration-color: #0087ff\">Dense</span>)                │ (<span style=\"color: #00d7ff; text-decoration-color: #00d7ff\">None</span>, <span style=\"color: #00af00; text-decoration-color: #00af00\">128</span>)            │        <span style=\"color: #00af00; text-decoration-color: #00af00\">16,512</span> │\n",
              "├─────────────────────────────────┼────────────────────────┼───────────────┤\n",
              "│ dense_32 (<span style=\"color: #0087ff; text-decoration-color: #0087ff\">Dense</span>)                │ (<span style=\"color: #00d7ff; text-decoration-color: #00d7ff\">None</span>, <span style=\"color: #00af00; text-decoration-color: #00af00\">10</span>)             │         <span style=\"color: #00af00; text-decoration-color: #00af00\">1,290</span> │\n",
              "└─────────────────────────────────┴────────────────────────┴───────────────┘\n",
              "</pre>\n"
            ]
          },
          "metadata": {}
        },
        {
          "output_type": "display_data",
          "data": {
            "text/plain": [
              "\u001b[1m Total params: \u001b[0m\u001b[38;5;34m102,282\u001b[0m (399.54 KB)\n"
            ],
            "text/html": [
              "<pre style=\"white-space:pre;overflow-x:auto;line-height:normal;font-family:Menlo,'DejaVu Sans Mono',consolas,'Courier New',monospace\"><span style=\"font-weight: bold\"> Total params: </span><span style=\"color: #00af00; text-decoration-color: #00af00\">102,282</span> (399.54 KB)\n",
              "</pre>\n"
            ]
          },
          "metadata": {}
        },
        {
          "output_type": "display_data",
          "data": {
            "text/plain": [
              "\u001b[1m Trainable params: \u001b[0m\u001b[38;5;34m102,282\u001b[0m (399.54 KB)\n"
            ],
            "text/html": [
              "<pre style=\"white-space:pre;overflow-x:auto;line-height:normal;font-family:Menlo,'DejaVu Sans Mono',consolas,'Courier New',monospace\"><span style=\"font-weight: bold\"> Trainable params: </span><span style=\"color: #00af00; text-decoration-color: #00af00\">102,282</span> (399.54 KB)\n",
              "</pre>\n"
            ]
          },
          "metadata": {}
        },
        {
          "output_type": "display_data",
          "data": {
            "text/plain": [
              "\u001b[1m Non-trainable params: \u001b[0m\u001b[38;5;34m0\u001b[0m (0.00 B)\n"
            ],
            "text/html": [
              "<pre style=\"white-space:pre;overflow-x:auto;line-height:normal;font-family:Menlo,'DejaVu Sans Mono',consolas,'Courier New',monospace\"><span style=\"font-weight: bold\"> Non-trainable params: </span><span style=\"color: #00af00; text-decoration-color: #00af00\">0</span> (0.00 B)\n",
              "</pre>\n"
            ]
          },
          "metadata": {}
        },
        {
          "output_type": "stream",
          "name": "stdout",
          "text": [
            "(48000, 28, 28, 1)\n",
            "(48000, 10)\n",
            "\u001b[1m1500/1500\u001b[0m \u001b[32m━━━━━━━━━━━━━━━━━━━━\u001b[0m\u001b[37m\u001b[0m \u001b[1m52s\u001b[0m 34ms/step - accuracy: 0.7193 - loss: 0.8588 - val_accuracy: 0.9651 - val_loss: 0.1187\n",
            "\u001b[1m313/313\u001b[0m \u001b[32m━━━━━━━━━━━━━━━━━━━━\u001b[0m\u001b[37m\u001b[0m \u001b[1m3s\u001b[0m 9ms/step - accuracy: 0.9594 - loss: 0.1259\n",
            "\u001b[1m1500/1500\u001b[0m \u001b[32m━━━━━━━━━━━━━━━━━━━━\u001b[0m\u001b[37m\u001b[0m \u001b[1m48s\u001b[0m 32ms/step - accuracy: 0.9651 - loss: 0.1128 - val_accuracy: 0.9762 - val_loss: 0.0790\n",
            "\u001b[1m313/313\u001b[0m \u001b[32m━━━━━━━━━━━━━━━━━━━━\u001b[0m\u001b[37m\u001b[0m \u001b[1m4s\u001b[0m 13ms/step - accuracy: 0.9723 - loss: 0.0845\n",
            "\u001b[1m 157/1500\u001b[0m \u001b[32m━━\u001b[0m\u001b[37m━━━━━━━━━━━━━━━━━━\u001b[0m \u001b[1m36s\u001b[0m 27ms/step - accuracy: 0.9715 - loss: 0.0856"
          ]
        }
      ],
      "source": [
        "import tensorflow as tf\n",
        "import time\n",
        "\n",
        "def CNN(activation_fun, conv_layers, epoch, optimizer, learning_rate, batch_size, fc_layers, fc_size, dropout_rate, dropout_pos=-1):\n",
        "  model = tf.keras.Sequential()\n",
        "  if conv_layers > 3:\n",
        "    print(\"Too many layers, will create 3 C layers\")\n",
        "  c_layers = 3 if conv_layers > 3 else conv_layers\n",
        "  if fc_layers > 4:\n",
        "    print(\"Too many layers, will create 4 FC layers\")\n",
        "  fc_layers = 4 if fc_layers > 4 else fc_layers\n",
        "\n",
        "  for i in range(c_layers):\n",
        "    if i == 0:\n",
        "      model.add(tf.keras.layers.Conv2D(filters=32, kernel_size=(3,3), strides=(1,1), padding = 'same', activation=activation_fun.value, input_shape=X_train_cnn.shape[1:]))\n",
        "    else:\n",
        "      model.add(tf.keras.layers.Conv2D(32, (3,3), (1,1), padding = 'same', activation=activation_fun.value))\n",
        "    model.add(tf.keras.layers.MaxPooling2D(pool_size = (2,2), strides = (2,2), padding = 'same'))\n",
        "  model.add(tf.keras.layers.Flatten())\n",
        "\n",
        "  for i in range(fc_layers):\n",
        "    model.add(tf.keras.layers.Dense(fc_size, activation=activation_fun.value))\n",
        "    if dropout_pos == i:\n",
        "      model.add(tf.keras.layers.Dropout(dropout_rate))\n",
        "    # if i == fc_layers - 1:\n",
        "  model.add(tf.keras.layers.Dense(10, activation='softmax'))\n",
        "  model.compile(optimizer=optimizer.value, loss='categorical_crossentropy', metrics=['accuracy'])\n",
        "  model.summary()\n",
        "  print(X_train_cnn.shape)\n",
        "  print(y_train_cnn.shape)\n",
        "  train_times = []\n",
        "  test_times = []\n",
        "  for i in range(epoch):\n",
        "    start = time.time()\n",
        "    model.fit(X_train_cnn, y_train_cnn, epochs=1, batch_size=batch_size, validation_data=(X_valid_cnn, y_valid_cnn))\n",
        "    end_time = time.time()\n",
        "    train_times.append(end_time - start)\n",
        "    start = time.time()\n",
        "    test_loss, test_acc = model.evaluate(X_test_cnn, y_test_cnn)\n",
        "    end = time.time()\n",
        "    test_times.append(end - start)\n",
        "  avg_train = np.mean(train_times)\n",
        "  avg_test = np.mean(test_times)\n",
        "  print(f\"Total Training time: {np.sum(train_times)} seconds\")\n",
        "  print(f\"AVG Training time per epoch: {avg_train} seconds\")\n",
        "  print(f\"AVG Testing time per epoch: {avg_test} seconds\")\n",
        "\n",
        "  test_loss, test_acc = model.evaluate(X_test_cnn, y_test_cnn)\n",
        "  print(f\"Test loss: {test_loss*100:.2f}%\")\n",
        "  print(f\"Test accuracy: {test_acc*100:.2f}%\")\n",
        "\n",
        "CNN(activation_fun=ActivationFunction.ReLU, conv_layers=3, epoch=10, optimizer=Optimizer.SGD, learning_rate=0.01, batch_size=32, fc_layers=2, fc_size=128, dropout_pos=-1, dropout_rate=0)"
      ]
    },
    {
      "cell_type": "markdown",
      "metadata": {
        "id": "rbzCyUjpTxoB"
      },
      "source": [
        "### Testing different learning rates"
      ]
    },
    {
      "cell_type": "code",
      "execution_count": null,
      "metadata": {
        "id": "tcC84uYfWblL"
      },
      "outputs": [],
      "source": [
        "\n",
        "learning_rates = [0.1, 0.01, 0.001, 0.0001]\n",
        "results_lr = []\n",
        "\n",
        "for lr in learning_rates:\n",
        "    print(f\"\\n--- Testing Learning Rate: {lr} ---\")\n",
        "    result = CNN(\n",
        "        activation_fun=ActivationFunction.ReLU,\n",
        "        conv_layers=3,\n",
        "        epoch=10,\n",
        "        optimizer=Optimizer.SGD,\n",
        "        learning_rate=lr,\n",
        "        batch_size=32,\n",
        "        fc_layers=2,\n",
        "        fc_size=128,\n",
        "        dropout_rate=0,\n",
        "        dropout_pos=-1\n",
        "    )\n",
        "    results_lr.append(result)\n",
        "\n",
        "# Print best learning rate\n",
        "best_lr_result = max(results_lr, key=lambda x: x['final_test_accuracy'])\n",
        "print(f\"\\nBest Learning Rate: {best_lr_result['learning_rate']}\")\n",
        "print(f\"Best Test Accuracy: {best_lr_result['final_test_accuracy']:.4f}\")\n",
        "\n",
        "# Print results table\n",
        "print(\"\\nLearning Rate Results Table:\")\n",
        "print(\"| Learning Rate | Final Test Accuracy | Val Accuracy (First 5 Epochs) | Parameters | Avg Train Time | Avg Test Time |\")\n",
        "print(\"|---------------|--------------------|------------------------------|------------|----------------|---------------|\")\n",
        "for result in results_lr:\n",
        "    print(f\"| {result['learning_rate']} | {result['final_test_accuracy']:.4f} | {[f'{acc:.4f}' for acc in result['val_accuracies_first_5']]} | {result['total_params']} | {result['avg_train_time']:.4f}s | {result['avg_test_time']:.4f}s |\")"
      ]
    },
    {
      "cell_type": "markdown",
      "metadata": {
        "id": "2V45RsGTWb-i"
      },
      "source": [
        "###Testing different number of CNN layers and CNN parameters\n",
        "###Testing different number of FC layers\n"
      ]
    },
    {
      "cell_type": "code",
      "execution_count": null,
      "metadata": {
        "id": "VtRUs7DzbTLa"
      },
      "outputs": [],
      "source": [
        "# Cell 4: Step 5 - Test Number and Sizes of FC Layers\n",
        "fc_configs = [\n",
        "    {'fc_layers': 1, 'fc_size': 128},  # 1 FC layer with 128 units\n",
        "    {'fc_layers': 2, 'fc_size': 256},  # 2 FC layers, each with 256 units\n",
        "    {'fc_layers': 3, 'fc_size': 512},  # 3 FC layers, each with 512 units\n",
        "    {'fc_layers': 2, 'fc_size': 128}   # 2 FC layers, each with 128 units\n",
        "]\n",
        "\n",
        "results_fc = []\n",
        "best_lr = best_lr_result['learning_rate']  # Best learning rate from Step 4\n",
        "\n",
        "for config in fc_configs:\n",
        "    print(f\"\\n--- Testing FC Config: {config['fc_layers']} layers, size {config['fc_size']} ---\")\n",
        "    result = CNN(\n",
        "        activation_fun=ActivationFunction.ReLU,\n",
        "        conv_layers=3,\n",
        "        epoch=10,\n",
        "        optimizer=Optimizer.SGD,\n",
        "        learning_rate=best_lr,\n",
        "        batch_size=32,\n",
        "        fc_layers=config['fc_layers'],\n",
        "        fc_size=config['fc_size'],\n",
        "        dropout_rate=0,\n",
        "        dropout_pos=-1\n",
        "    )\n",
        "    result['fc_config'] = f\"{config['fc_layers']} FC (size {config['fc_size']})\"\n",
        "    results_fc.append(result)\n",
        "\n",
        "# Print best FC configuration\n",
        "best_fc_result = max(results_fc, key=lambda x: x['final_test_accuracy'])\n",
        "print(f\"\\nBest FC Configuration: {best_fc_result['fc_config']}\")\n",
        "print(f\"Best Test Accuracy: {best_fc_result['final_test_accuracy']:.4f}\")\n",
        "\n",
        "# Print results table\n",
        "print(\"\\nFC Configuration Results Table:\")\n",
        "print(\"| FC Config | Final Test Accuracy | Val Accuracy (First 5 Epochs) | Parameters | Avg Train Time | Avg Test Time |\")\n",
        "print(\"|----------|--------------------|------------------------------|------------|----------------|---------------|\")\n",
        "for result in results_fc:\n",
        "    print(f\"| {result['fc_config']} | {result['final_test_accuracy']:.4f} | {[f'{acc:.4f}' for acc in result['val_accuracies_first_5']]} | {result['total_params']} | {result['avg_train_time']:.4f}s | {result['avg_test_time']:.4f}s |\")"
      ]
    },
    {
      "cell_type": "markdown",
      "metadata": {
        "id": "Gaj7rlWJZU97"
      },
      "source": [
        "### batch size = 2b"
      ]
    },
    {
      "cell_type": "code",
      "execution_count": null,
      "metadata": {
        "id": "XqaL2gF_bRYK"
      },
      "outputs": [],
      "source": []
    },
    {
      "cell_type": "markdown",
      "metadata": {
        "id": "m5f2qXJxaEN7"
      },
      "source": [
        "##activation function 1"
      ]
    },
    {
      "cell_type": "code",
      "execution_count": null,
      "metadata": {
        "id": "TecZzfXHbRAz"
      },
      "outputs": [],
      "source": []
    },
    {
      "cell_type": "markdown",
      "metadata": {
        "id": "3mIJSMUzaaID"
      },
      "source": [
        "## activation function 2"
      ]
    },
    {
      "cell_type": "code",
      "execution_count": null,
      "metadata": {
        "id": "YzHmcPMSbQrr"
      },
      "outputs": [],
      "source": []
    },
    {
      "cell_type": "markdown",
      "metadata": {
        "id": "0I6wx1feafiz"
      },
      "source": [
        "#activation function 3\n"
      ]
    },
    {
      "cell_type": "code",
      "execution_count": null,
      "metadata": {
        "id": "4cn8RQZbbP9i"
      },
      "outputs": [],
      "source": []
    },
    {
      "cell_type": "markdown",
      "metadata": {
        "id": "SP1f34S8am4r"
      },
      "source": [
        "## optimizer 1"
      ]
    },
    {
      "cell_type": "code",
      "execution_count": null,
      "metadata": {
        "id": "Q-OQV3A5bMhb"
      },
      "outputs": [],
      "source": []
    },
    {
      "cell_type": "markdown",
      "metadata": {
        "id": "dQTS_xqdapLj"
      },
      "source": [
        "##optimizer 2\n",
        "\n"
      ]
    },
    {
      "cell_type": "code",
      "execution_count": null,
      "metadata": {
        "id": "huQFqSE9bOOD"
      },
      "outputs": [],
      "source": []
    },
    {
      "cell_type": "markdown",
      "metadata": {
        "id": "OY056GA9a49D"
      },
      "source": [
        "## dropout layer place 1"
      ]
    },
    {
      "cell_type": "code",
      "execution_count": null,
      "metadata": {
        "id": "-8f044l3bN9C"
      },
      "outputs": [],
      "source": []
    },
    {
      "cell_type": "markdown",
      "metadata": {
        "id": "2V7cjDufbEDU"
      },
      "source": [
        "## dropout layer place 2"
      ]
    },
    {
      "cell_type": "code",
      "execution_count": null,
      "metadata": {
        "id": "SfAX0jp_bPL6"
      },
      "outputs": [],
      "source": []
    }
  ],
  "metadata": {
    "colab": {
      "provenance": []
    },
    "kernelspec": {
      "display_name": "Python 3",
      "name": "python3"
    },
    "language_info": {
      "name": "python"
    }
  },
  "nbformat": 4,
  "nbformat_minor": 0
}